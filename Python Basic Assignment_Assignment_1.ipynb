{
 "cells": [
  {
   "cell_type": "code",
   "execution_count": 6,
   "id": "deccc4ed",
   "metadata": {},
   "outputs": [],
   "source": [
    "# 1. In the below elements which of them are values or an expression? eg:- values can be integer or string and expressions will be mathematical operators.\n",
    "#  * \n",
    "# 'hello'\n",
    "# -87.8\n",
    "# - \n",
    "# / \n",
    "# +\t\n",
    "# 6 \n"
   ]
  },
  {
   "cell_type": "code",
   "execution_count": 7,
   "id": "1bdaef31",
   "metadata": {},
   "outputs": [],
   "source": [
    "# Ans: \n",
    "# * is expression (Multipication Operator)\n",
    "# 'hello' is value (String)\n",
    "# -87.8 is value (Integer)\n",
    "# - is expression (Subtraction Operator)\n",
    "# / is expression (Division Operator)\n",
    "# + is expression (Addition Operator)\n",
    "# 6 is value (Integer)"
   ]
  },
  {
   "cell_type": "code",
   "execution_count": 8,
   "id": "970d9e4e",
   "metadata": {},
   "outputs": [],
   "source": [
    "# 2. What is the difference between string and variable?"
   ]
  },
  {
   "cell_type": "code",
   "execution_count": 9,
   "id": "f93badd4",
   "metadata": {},
   "outputs": [],
   "source": [
    "# A string is a datatype which is used to store any characters or alphanumeric values\n",
    "# Eg: 'python3.8'; 'Hello World'\n",
    "# A variable is used to store information or values that can referenced later\n",
    "# Eg: a = 123456; b = \"Hello World\""
   ]
  },
  {
   "cell_type": "code",
   "execution_count": 10,
   "id": "a547b0aa",
   "metadata": {},
   "outputs": [],
   "source": [
    "# 3. Describe three different data types."
   ]
  },
  {
   "cell_type": "code",
   "execution_count": null,
   "id": "08386386",
   "metadata": {},
   "outputs": [],
   "source": [
    "# The three different data types are as below:\n",
    "#     1. str -- To store string values\n",
    "#         Eg: 'abc'; 'Hello'\n",
    "#     2 float -- To store decimal values\n",
    "#         Eg: 3.14; 1.2\n",
    "#     3 bool -- To store boolean values\n",
    "#         Eg: True; False"
   ]
  },
  {
   "cell_type": "code",
   "execution_count": 11,
   "id": "55232837",
   "metadata": {},
   "outputs": [],
   "source": [
    "# 4. What is an expression made up of? What do all expressions do?"
   ]
  },
  {
   "cell_type": "code",
   "execution_count": 12,
   "id": "124c0e1f",
   "metadata": {},
   "outputs": [],
   "source": [
    "# Expression is that evaluates to a single value which is made up with the combination of values, variables, operators.\n",
    "# Generally the expressions needs to be evaluated/calulated.\n",
    "# When Python evaluates the expression, it displays the result of the expression (after evaluation).\n",
    "# Eg: \"Hello World\" * 2\n",
    "#     Output: Hello WorldHello World\n",
    "        "
   ]
  },
  {
   "cell_type": "code",
   "execution_count": 13,
   "id": "a4d11e82",
   "metadata": {},
   "outputs": [],
   "source": [
    "# 5. This assignment statements, like spam = 10. What is the difference between an expression and a statement?"
   ]
  },
  {
   "cell_type": "code",
   "execution_count": 14,
   "id": "fac7690c",
   "metadata": {},
   "outputs": [],
   "source": [
    "# Expressions only contain identifiers, literals and operators, where operators include arithmetic and boolean operators and can be reduced to some kind of \"value\", which can be any Python object\n",
    "# Eg: map(lambda x: x*x, range(10))\n",
    "# Statements on the other hand, are everything that can make up a line (or several lines) of Python code.\n",
    "# Eg: print(spam = 10)"
   ]
  },
  {
   "cell_type": "code",
   "execution_count": 15,
   "id": "d84145b9",
   "metadata": {},
   "outputs": [],
   "source": [
    "# 6. After running the following code, what does the variable bacon contain?\n",
    "# bacon = 22\n",
    "# bacon + 1"
   ]
  },
  {
   "cell_type": "code",
   "execution_count": 16,
   "id": "96ac766c",
   "metadata": {},
   "outputs": [
    {
     "name": "stdout",
     "output_type": "stream",
     "text": [
      "Variable bacon contain the value:  23\n"
     ]
    }
   ],
   "source": [
    "bacon = 22\n",
    "print(\"Variable bacon contain the value: \", bacon + 1)"
   ]
  },
  {
   "cell_type": "code",
   "execution_count": 17,
   "id": "edaa3077",
   "metadata": {},
   "outputs": [],
   "source": [
    "# 7. What should the values of the following two terms be?\n",
    "# 'spam' + 'spamspam'\n",
    "# 'spam' * 3\n"
   ]
  },
  {
   "cell_type": "code",
   "execution_count": 18,
   "id": "651ded52",
   "metadata": {},
   "outputs": [
    {
     "name": "stdout",
     "output_type": "stream",
     "text": [
      "spamspamspam\n",
      "spamspamspam\n"
     ]
    }
   ],
   "source": [
    "print('spam' + 'spamspam')\n",
    "print('spam' * 3)"
   ]
  },
  {
   "cell_type": "code",
   "execution_count": 19,
   "id": "f866e7f7",
   "metadata": {},
   "outputs": [],
   "source": [
    "# 8. Why is eggs a valid variable name while 100 is invalid?"
   ]
  },
  {
   "cell_type": "code",
   "execution_count": 20,
   "id": "11aab346",
   "metadata": {},
   "outputs": [],
   "source": [
    "# To define are variable name there are some rules defined\n",
    "# 1. Variable Name should start with a letter or an underscore\n",
    "# 2. It shouldn`t start with a numbers\n",
    "\n",
    "# 3. Variable Name can contain aplhabet a-zA-Z and numbers from 0-9 \n",
    "#    An underscore can also be used\n",
    "\n",
    "# 4. Python VariableName are case sensitive in nature\n",
    "#    For Example:\n",
    "#         abc,  Abc, ABC\n",
    "#         All these are 3 different variable names\n",
    "\n",
    "# Therefore, egg is a valid variable name and 100 is invalid variable name"
   ]
  },
  {
   "cell_type": "code",
   "execution_count": 21,
   "id": "a7bd8894",
   "metadata": {},
   "outputs": [],
   "source": [
    "# 9. What three functions can be used to get the integer, floating-point number, or string version of a value?"
   ]
  },
  {
   "cell_type": "code",
   "execution_count": 22,
   "id": "6732ee5a",
   "metadata": {},
   "outputs": [
    {
     "data": {
      "text/plain": [
       "''"
      ]
     },
     "execution_count": 22,
     "metadata": {},
     "output_type": "execute_result"
    }
   ],
   "source": [
    "int()\n",
    "float()\n",
    "str()"
   ]
  },
  {
   "cell_type": "code",
   "execution_count": 23,
   "id": "c5f6883a",
   "metadata": {},
   "outputs": [],
   "source": [
    "# 10. Why does this expression cause an error? How can you fix it?\n",
    "# 'I have eaten ' + 99 + ' burritos.'"
   ]
  },
  {
   "cell_type": "code",
   "execution_count": 24,
   "id": "d0774c46",
   "metadata": {},
   "outputs": [],
   "source": [
    "# The above expression will give error because it is concatenating string with integer. Below is fix to the expression"
   ]
  },
  {
   "cell_type": "code",
   "execution_count": 25,
   "id": "7a70e5eb",
   "metadata": {},
   "outputs": [
    {
     "name": "stdout",
     "output_type": "stream",
     "text": [
      "I have eaten 99 burritos.\n",
      "I have eaten 99 burritos.\n"
     ]
    }
   ],
   "source": [
    "# Method 1\n",
    "print('I have eaten ' + str(99) + ' burritos.')\n",
    "\n",
    "# Method 2\n",
    "print('I have eaten ' + \"99\" + ' burritos.')"
   ]
  },
  {
   "cell_type": "code",
   "execution_count": null,
   "id": "ce705050",
   "metadata": {},
   "outputs": [],
   "source": []
  }
 ],
 "metadata": {
  "kernelspec": {
   "display_name": "Python 3 (ipykernel)",
   "language": "python",
   "name": "python3"
  },
  "language_info": {
   "codemirror_mode": {
    "name": "ipython",
    "version": 3
   },
   "file_extension": ".py",
   "mimetype": "text/x-python",
   "name": "python",
   "nbconvert_exporter": "python",
   "pygments_lexer": "ipython3",
   "version": "3.8.11"
  }
 },
 "nbformat": 4,
 "nbformat_minor": 5
}
